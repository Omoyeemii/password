{
  "nbformat": 4,
  "nbformat_minor": 0,
  "metadata": {
    "colab": {
      "provenance": [],
      "authorship_tag": "ABX9TyPHLrgVV1DkGZoi+XuD4gqC",
      "include_colab_link": true
    },
    "kernelspec": {
      "name": "python3",
      "display_name": "Python 3"
    },
    "language_info": {
      "name": "python"
    }
  },
  "cells": [
    {
      "cell_type": "markdown",
      "metadata": {
        "id": "view-in-github",
        "colab_type": "text"
      },
      "source": [
        "<a href=\"https://colab.research.google.com/github/Omoyeemii/password/blob/main/band_name_generator.ipynb\" target=\"_parent\"><img src=\"https://colab.research.google.com/assets/colab-badge.svg\" alt=\"Open In Colab\"/></a>"
      ]
    },
    {
      "cell_type": "code",
      "execution_count": 17,
      "metadata": {
        "colab": {
          "base_uri": "https://localhost:8080/"
        },
        "collapsed": true,
        "id": "YjQxMOaNNsDF",
        "outputId": "9de0d418-9e89-42b5-afdd-c35d3fcf5bff"
      },
      "outputs": [
        {
          "output_type": "stream",
          "name": "stdout",
          "text": [
            "which city did you grow up in LAGOS\n",
            "what is the name of your pet ZAINAB\n",
            "what is your nick name HEAD GIRL\n",
            "what is your favourite word MISTRESS\n",
            "suggestions for your band_name are:\n",
            " LAGOS HEAD GIRL\n",
            " LAGOS MISTRESS\n",
            " MISTRESS ZAINAB\n",
            " ZAINAB MISTRESS\n",
            " HEAD GIRL ZAINAB\n",
            "suggestions for your band_name are:\n",
            " LAGOS HEAD GIRL\n",
            " LAGOS MISTRESS\n",
            " MISTRESS ZAINAB\n",
            " ZAINAB MISTRESS\n",
            " HEAD GIRL ZAINAB\n"
          ]
        }
      ],
      "source": [
        "def requirement1(city):\n",
        "    return city\n",
        "def requirement2(pet):\n",
        "    return pet\n",
        "def requirement3(nickname):\n",
        "    return nickname\n",
        "def requirement4(word):\n",
        "    return word\n",
        "city = requirement1(input('which city did you grow up in'));\n",
        "pet = requirement2(input('what is the name of your pet'));\n",
        "nickname = requirement3(input('what is your nick name'));\n",
        "word = requirement4(input('what is your favourite word'));\n",
        "band_names = [\n",
        "    city + nickname,\n",
        "    city + word,\n",
        "    word + pet,\n",
        "    pet + word,\n",
        "    nickname + pet,\n",
        "]\n",
        "print('suggestions for your band_name are:')\n",
        "for q in band_names:\n",
        "  print(q)\n",
        "\n",
        "print('suggestions for your band_name are:')\n",
        "for q in band_names:\n",
        "  print(q)"
      ]
    }
  ]
}